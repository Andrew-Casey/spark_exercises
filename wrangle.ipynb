{
 "cells": [
  {
   "cell_type": "code",
   "execution_count": 1,
   "id": "d38d6b11",
   "metadata": {},
   "outputs": [],
   "source": [
    "import os\n",
    "import env as e\n",
    "\n",
    "import pyspark\n",
    "from pyspark.sql import SparkSession\n",
    "from pyspark.sql.functions import *\n",
    "from pyspark.sql.types import StructType, StructField, StringType\n",
    "import pandas as pd\n",
    "\n"
   ]
  },
  {
   "cell_type": "markdown",
   "id": "07dd4f9e",
   "metadata": {},
   "source": [
    "Read the case, department, and source data into their own spark dataframes.\n",
    "\n",
    "- Let's see how writing to the local disk works in spark:\n",
    "\n",
    "    - Write the code necessary to store the source data in both csv and json format, store these as sources_csv and sources_json\n",
    "\n",
    "    - Inspect your folder structure. What do you notice?"
   ]
  },
  {
   "cell_type": "code",
   "execution_count": 2,
   "id": "a7910943",
   "metadata": {},
   "outputs": [
    {
     "name": "stderr",
     "output_type": "stream",
     "text": [
      "Setting default log level to \"WARN\".\n",
      "To adjust logging level use sc.setLogLevel(newLevel). For SparkR, use setLogLevel(newLevel).\n",
      "23/07/05 12:05:33 WARN NativeCodeLoader: Unable to load native-hadoop library for your platform... using builtin-java classes where applicable\n",
      "23/07/05 12:05:34 WARN Utils: Service 'SparkUI' could not bind on port 4040. Attempting port 4041.\n"
     ]
    }
   ],
   "source": [
    "# Generate spark object to initialize a local Spark JVM process\n",
    "spark = SparkSession.builder.getOrCreate()"
   ]
  },
  {
   "cell_type": "code",
   "execution_count": 3,
   "id": "e217bdc8",
   "metadata": {},
   "outputs": [],
   "source": [
    "url = e.get_db_url(\"311_data\")"
   ]
  },
  {
   "cell_type": "code",
   "execution_count": 4,
   "id": "0f6ddedc",
   "metadata": {},
   "outputs": [
    {
     "name": "stderr",
     "output_type": "stream",
     "text": [
      "23/07/05 12:08:27 WARN TaskSetManager: Stage 0 contains a task of very large size (18868 KiB). The maximum recommended task size is 1000 KiB.\n",
      "23/07/05 12:08:36 WARN TaskSetManager: Stage 1 contains a task of very large size (18868 KiB). The maximum recommended task size is 1000 KiB.\n",
      "23/07/05 12:08:40 WARN TaskSetManager: Stage 2 contains a task of very large size (18868 KiB). The maximum recommended task size is 1000 KiB.\n",
      "[Stage 2:>                                                          (0 + 1) / 1]\r"
     ]
    },
    {
     "name": "stdout",
     "output_type": "stream",
     "text": [
      "+----------+----------------+----------------+------------+---------+-------------+-----------+----------------+--------------------+-----------+-----------+---------+--------------------+----------------+\n",
      "|   case_id|case_opened_date|case_closed_date|SLA_due_date|case_late|num_days_late|case_closed|   dept_division|service_request_type|   SLA_days|case_status|source_id|     request_address|council_district|\n",
      "+----------+----------------+----------------+------------+---------+-------------+-----------+----------------+--------------------+-----------+-----------+---------+--------------------+----------------+\n",
      "|1014127332|     1/1/18 0:42|    1/1/18 12:29|9/26/20 0:42|       NO| -998.5087616|        YES|Field Operations|        Stray Animal|      999.0|     Closed| svcCRMLS|2315  EL PASO ST,...|               5|\n",
      "|1014127333|     1/1/18 0:46|     1/3/18 8:11| 1/5/18 8:30|       NO| -2.012604167|        YES|     Storm Water|Removal Of Obstru...|4.322222222|     Closed| svcCRMSS|2215  GOLIAD RD, ...|               3|\n",
      "|1014127334|     1/1/18 0:48|     1/2/18 7:57| 1/5/18 8:30|       NO| -3.022337963|        YES|     Storm Water|Removal Of Obstru...|4.320729167|     Closed| svcCRMSS|102  PALFREY ST W...|               3|\n",
      "|1014127335|     1/1/18 1:29|     1/2/18 8:13|1/17/18 8:30|       NO| -15.01148148|        YES|Code Enforcement|Front Or Side Yar...|16.29188657|     Closed| svcCRMSS|114  LA GARDE ST,...|               3|\n",
      "+----------+----------------+----------------+------------+---------+-------------+-----------+----------------+--------------------+-----------+-----------+---------+--------------------+----------------+\n",
      "only showing top 4 rows\n",
      "\n"
     ]
    },
    {
     "name": "stderr",
     "output_type": "stream",
     "text": [
      "23/07/05 12:08:44 WARN PythonRunner: Detected deadlock while completing task 0.0 in stage 2 (TID 16): Attempting to kill Python Worker\n",
      "\r",
      "                                                                                \r"
     ]
    }
   ],
   "source": [
    "#case\n",
    "query = \"\"\"SELECT * FROM cases\"\"\"\n",
    "cases = pd.read_sql(query, url)\n",
    "cases = spark.createDataFrame(cases)\n",
    "\n",
    "cases.write.json(\"cases_json\", mode=\"overwrite\")\n",
    "cases.write.format(\"csv\").mode(\"overwrite\").option(\"header\", True).save(\"cases_csv\")\n",
    "\n",
    "cases.show(4)"
   ]
  },
  {
   "cell_type": "code",
   "execution_count": 5,
   "id": "955f6ecb",
   "metadata": {},
   "outputs": [
    {
     "name": "stdout",
     "output_type": "stream",
     "text": [
      "+--------------------+--------------------+----------------------+-------------------+\n",
      "|       dept_division|           dept_name|standardized_dept_name|dept_subject_to_SLA|\n",
      "+--------------------+--------------------+----------------------+-------------------+\n",
      "|     311 Call Center|    Customer Service|      Customer Service|                YES|\n",
      "|               Brush|Solid Waste Manag...|           Solid Waste|                YES|\n",
      "|     Clean and Green|Parks and Recreation|    Parks & Recreation|                YES|\n",
      "|Clean and Green N...|Parks and Recreation|    Parks & Recreation|                YES|\n",
      "+--------------------+--------------------+----------------------+-------------------+\n",
      "only showing top 4 rows\n",
      "\n"
     ]
    }
   ],
   "source": [
    "#department\n",
    "query = \"\"\"SELECT * FROM dept\"\"\"\n",
    "dept = pd.read_sql(query, url)\n",
    "dept = spark.createDataFrame(dept)\n",
    "\n",
    "dept.write.json(\"dept_json\", mode=\"overwrite\")\n",
    "dept.write.format(\"csv\").mode(\"overwrite\").option(\"header\", True).save(\"dept_csv\")\n",
    "\n",
    "dept.show(4)"
   ]
  },
  {
   "cell_type": "code",
   "execution_count": 6,
   "id": "f9eaeda0",
   "metadata": {},
   "outputs": [
    {
     "name": "stdout",
     "output_type": "stream",
     "text": [
      "+-----+---------+----------------+\n",
      "|index|source_id| source_username|\n",
      "+-----+---------+----------------+\n",
      "|    0|   100137|Merlene Blodgett|\n",
      "|    1|   103582|     Carmen Cura|\n",
      "|    2|   106463| Richard Sanchez|\n",
      "|    3|   119403|  Betty De Hoyos|\n",
      "+-----+---------+----------------+\n",
      "only showing top 4 rows\n",
      "\n"
     ]
    }
   ],
   "source": [
    "#source\n",
    "query = \"\"\"SELECT * FROM source\"\"\"\n",
    "source = pd.read_sql(query, url)\n",
    "source = spark.createDataFrame(source)\n",
    "\n",
    "source.write.json(\"source_json\", mode=\"overwrite\")\n",
    "source.write.format(\"csv\").mode(\"overwrite\").option(\"header\", True).save(\"source_csv\")\n",
    "\n",
    "source.show(4)"
   ]
  },
  {
   "cell_type": "markdown",
   "id": "10dc3cdf",
   "metadata": {},
   "source": [
    "Inspect the data in your dataframes. Are the data types appropriate? Write the code necessary to cast the values to the appropriate types.\n",
    "\n"
   ]
  },
  {
   "cell_type": "code",
   "execution_count": 7,
   "id": "c74c82da",
   "metadata": {},
   "outputs": [
    {
     "data": {
      "text/plain": [
       "StructType([StructField('case_id', LongType(), True), StructField('case_opened_date', StringType(), True), StructField('case_closed_date', StringType(), True), StructField('SLA_due_date', StringType(), True), StructField('case_late', StringType(), True), StructField('num_days_late', DoubleType(), True), StructField('case_closed', StringType(), True), StructField('dept_division', StringType(), True), StructField('service_request_type', StringType(), True), StructField('SLA_days', DoubleType(), True), StructField('case_status', StringType(), True), StructField('source_id', StringType(), True), StructField('request_address', StringType(), True), StructField('council_district', LongType(), True)])"
      ]
     },
     "execution_count": 7,
     "metadata": {},
     "output_type": "execute_result"
    }
   ],
   "source": [
    "cases.schema"
   ]
  },
  {
   "cell_type": "code",
   "execution_count": 8,
   "id": "8efceb00",
   "metadata": {},
   "outputs": [
    {
     "data": {
      "text/plain": [
       "StructType([StructField('index', LongType(), True), StructField('source_id', StringType(), True), StructField('source_username', StringType(), True)])"
      ]
     },
     "execution_count": 8,
     "metadata": {},
     "output_type": "execute_result"
    }
   ],
   "source": [
    "source.schema"
   ]
  },
  {
   "cell_type": "code",
   "execution_count": 9,
   "id": "edc860da",
   "metadata": {},
   "outputs": [
    {
     "data": {
      "text/plain": [
       "StructType([StructField('dept_division', StringType(), True), StructField('dept_name', StringType(), True), StructField('standardized_dept_name', StringType(), True), StructField('dept_subject_to_SLA', StringType(), True)])"
      ]
     },
     "execution_count": 9,
     "metadata": {},
     "output_type": "execute_result"
    }
   ],
   "source": [
    "dept.schema"
   ]
  },
  {
   "cell_type": "code",
   "execution_count": 16,
   "id": "5d628ab0",
   "metadata": {},
   "outputs": [
    {
     "name": "stderr",
     "output_type": "stream",
     "text": [
      "23/07/05 12:17:02 WARN TaskSetManager: Stage 11 contains a task of very large size (18868 KiB). The maximum recommended task size is 1000 KiB.\n",
      "[Stage 11:>                                                         (0 + 1) / 1]\r"
     ]
    },
    {
     "name": "stdout",
     "output_type": "stream",
     "text": [
      "-RECORD 0------------------------------------\n",
      " case_id              | 1014127332           \n",
      " case_opened_date     | 1/1/18 0:42          \n",
      " case_closed_date     | 1/1/18 12:29         \n",
      " case_due_date        | 9/26/20 0:42         \n",
      " case_late            | false                \n",
      " num_days_late        | -998.5087616         \n",
      " case_closed          | true                 \n",
      " dept_division        | Field Operations     \n",
      " service_request_type | Stray Animal         \n",
      " SLA_days             | 999.0                \n",
      " case_status          | Closed               \n",
      " source_id            | svcCRMLS             \n",
      " request_address      | 2315  EL PASO ST,... \n",
      " council_district     | 5                    \n",
      "-RECORD 1------------------------------------\n",
      " case_id              | 1014127333           \n",
      " case_opened_date     | 1/1/18 0:46          \n",
      " case_closed_date     | 1/3/18 8:11          \n",
      " case_due_date        | 1/5/18 8:30          \n",
      " case_late            | false                \n",
      " num_days_late        | -2.012604167         \n",
      " case_closed          | true                 \n",
      " dept_division        | Storm Water          \n",
      " service_request_type | Removal Of Obstru... \n",
      " SLA_days             | 4.322222222          \n",
      " case_status          | Closed               \n",
      " source_id            | svcCRMSS             \n",
      " request_address      | 2215  GOLIAD RD, ... \n",
      " council_district     | 3                    \n",
      "only showing top 2 rows\n",
      "\n"
     ]
    },
    {
     "name": "stderr",
     "output_type": "stream",
     "text": [
      "23/07/05 12:17:06 WARN PythonRunner: Detected deadlock while completing task 0.0 in stage 11 (TID 53): Attempting to kill Python Worker\n",
      "\r",
      "                                                                                \r"
     ]
    }
   ],
   "source": [
    "cases = cases.withColumnRenamed(\"SLA_due_date\", \"case_due_date\")\n",
    "cases.show(2, vertical=True)"
   ]
  },
  {
   "cell_type": "code",
   "execution_count": 14,
   "id": "2bd67135",
   "metadata": {
    "scrolled": true
   },
   "outputs": [
    {
     "name": "stderr",
     "output_type": "stream",
     "text": [
      "23/07/05 12:14:25 WARN TaskSetManager: Stage 10 contains a task of very large size (18868 KiB). The maximum recommended task size is 1000 KiB.\n",
      "[Stage 10:>                                                         (0 + 1) / 1]\r"
     ]
    },
    {
     "name": "stdout",
     "output_type": "stream",
     "text": [
      "+-----------+---------+\n",
      "|case_closed|case_late|\n",
      "+-----------+---------+\n",
      "|       true|    false|\n",
      "|       true|    false|\n",
      "|       true|    false|\n",
      "|       true|    false|\n",
      "|       true|     true|\n",
      "|       true|    false|\n",
      "|       true|    false|\n",
      "|       true|    false|\n",
      "|       true|    false|\n",
      "|       true|    false|\n",
      "|       true|    false|\n",
      "|       true|    false|\n",
      "|       true|    false|\n",
      "|       true|    false|\n",
      "|       true|    false|\n",
      "|       true|    false|\n",
      "|       true|    false|\n",
      "|       true|    false|\n",
      "|       true|    false|\n",
      "|       true|    false|\n",
      "+-----------+---------+\n",
      "only showing top 20 rows\n",
      "\n"
     ]
    },
    {
     "name": "stderr",
     "output_type": "stream",
     "text": [
      "23/07/05 12:14:29 WARN PythonRunner: Detected deadlock while completing task 0.0 in stage 10 (TID 52): Attempting to kill Python Worker\n",
      "\r",
      "                                                                                \r"
     ]
    }
   ],
   "source": [
    "#Let's create two new boolean columns\n",
    "cases = cases.withColumn(\"case_closed\", expr('case_closed == \"YES\"')).withColumn(\n",
    "        \"case_late\", expr('case_late == \"YES\"'))\n",
    "\n",
    "#Select just the two columns\n",
    "cases.select(\"case_closed\", \"case_late\").show()"
   ]
  },
  {
   "cell_type": "code",
   "execution_count": 17,
   "id": "bd5e444e",
   "metadata": {},
   "outputs": [
    {
     "name": "stderr",
     "output_type": "stream",
     "text": [
      "23/07/05 12:17:10 WARN TaskSetManager: Stage 12 contains a task of very large size (18868 KiB). The maximum recommended task size is 1000 KiB.\n",
      "[Stage 12:>                                                         (0 + 1) / 1]\r"
     ]
    },
    {
     "name": "stdout",
     "output_type": "stream",
     "text": [
      "+-------------------+-------------------+-------------------+\n",
      "|   case_opened_date|   case_closed_date|      case_due_date|\n",
      "+-------------------+-------------------+-------------------+\n",
      "|2018-01-01 00:42:00|2018-01-01 12:29:00|2020-09-26 00:42:00|\n",
      "|2018-01-01 00:46:00|2018-01-03 08:11:00|2018-01-05 08:30:00|\n",
      "|2018-01-01 00:48:00|2018-01-02 07:57:00|2018-01-05 08:30:00|\n",
      "|2018-01-01 01:29:00|2018-01-02 08:13:00|2018-01-17 08:30:00|\n",
      "|2018-01-01 01:34:00|2018-01-01 13:29:00|2018-01-01 04:34:00|\n",
      "+-------------------+-------------------+-------------------+\n",
      "only showing top 5 rows\n",
      "\n"
     ]
    },
    {
     "name": "stderr",
     "output_type": "stream",
     "text": [
      "23/07/05 12:17:14 WARN PythonRunner: Detected deadlock while completing task 0.0 in stage 12 (TID 54): Attempting to kill Python Worker\n",
      "\r",
      "                                                                                \r"
     ]
    }
   ],
   "source": [
    "fmt = \"M/d/yy H:mm\"\n",
    "\n",
    "cases = (\n",
    "    cases.withColumn(\"case_opened_date\", to_timestamp(\"case_opened_date\", fmt))\n",
    "    .withColumn(\"case_closed_date\", to_timestamp(\"case_closed_date\", fmt))\n",
    "    .withColumn(\"case_due_date\", to_timestamp(\"case_due_date\", fmt))\n",
    ")\n",
    "\n",
    "cases.select(\"case_opened_date\", \"case_closed_date\", \"case_due_date\").show(5)"
   ]
  },
  {
   "cell_type": "markdown",
   "id": "6135fc24",
   "metadata": {},
   "source": [
    "# 1.\n",
    "How old is the latest (in terms of days past SLA) currently open issue? How long has the oldest (in terms of days since opened) currently opened issue been open?\n"
   ]
  },
  {
   "cell_type": "code",
   "execution_count": 19,
   "id": "c924876e",
   "metadata": {},
   "outputs": [
    {
     "name": "stderr",
     "output_type": "stream",
     "text": [
      "23/07/05 12:22:46 WARN TaskSetManager: Stage 14 contains a task of very large size (18868 KiB). The maximum recommended task size is 1000 KiB.\n",
      "[Stage 14:>                                                         (0 + 1) / 1]\r"
     ]
    },
    {
     "name": "stdout",
     "output_type": "stream",
     "text": [
      "-RECORD 0------------------------------------\n",
      " case_id              | 1014127332           \n",
      " case_opened_date     | 2018-01-01 00:42:00  \n",
      " case_closed_date     | 2018-01-01 12:29:00  \n",
      " case_due_date        | 2020-09-26 00:42:00  \n",
      " case_late            | false                \n",
      " num_days_late        | -998.5087616         \n",
      " case_closed          | true                 \n",
      " dept_division        | Field Operations     \n",
      " service_request_type | Stray Animal         \n",
      " SLA_days             | 999.0                \n",
      " case_status          | Closed               \n",
      " source_id            | svcCRMLS             \n",
      " request_address      | 2315  EL PASO ST,... \n",
      " council_district     | 5                    \n",
      "only showing top 1 row\n",
      "\n"
     ]
    },
    {
     "name": "stderr",
     "output_type": "stream",
     "text": [
      "23/07/05 12:22:50 WARN PythonRunner: Detected deadlock while completing task 0.0 in stage 14 (TID 56): Attempting to kill Python Worker\n",
      "\r",
      "                                                                                \r"
     ]
    }
   ],
   "source": [
    "cases.show(1, vertical=True)"
   ]
  },
  {
   "cell_type": "code",
   "execution_count": 20,
   "id": "31f4d4f3",
   "metadata": {},
   "outputs": [
    {
     "name": "stderr",
     "output_type": "stream",
     "text": [
      "23/07/05 12:23:57 WARN TaskSetManager: Stage 15 contains a task of very large size (18868 KiB). The maximum recommended task size is 1000 KiB.\n",
      "23/07/05 12:23:59 WARN TaskSetManager: Stage 18 contains a task of very large size (18868 KiB). The maximum recommended task size is 1000 KiB.\n",
      "[Stage 18:>                                                         (0 + 8) / 8]\r"
     ]
    },
    {
     "name": "stdout",
     "output_type": "stream",
     "text": [
      "Age of the latest issue (days past SLA): 2360\n",
      "Duration of the oldest issue (days since opened): 1792\n"
     ]
    },
    {
     "name": "stderr",
     "output_type": "stream",
     "text": [
      "\r",
      "                                                                                \r"
     ]
    }
   ],
   "source": [
    "# Filter for currently open issues\n",
    "open_issues = cases.filter(cases.case_closed == False)\n",
    "\n",
    "# Calculate days past SLA for each open issue\n",
    "open_issues = open_issues.withColumn(\"days_past_SLA\", datediff(current_date(), open_issues.case_due_date))\n",
    "\n",
    "# Calculate the age of the latest issue in terms of days past SLA\n",
    "latest_age = open_issues.select(max(\"days_past_SLA\")).first()[0]\n",
    "\n",
    "# Calculate days since opened for each open issue\n",
    "open_issues = open_issues.withColumn(\"days_since_opened\", datediff(current_date(), open_issues.case_opened_date))\n",
    "\n",
    "#Calculate the duration of the oldest issue in terms of days since opened\n",
    "oldest_duration = open_issues.select(min(\"days_since_opened\")).first()[0]\n",
    "\n",
    "print(\"Age of the latest issue (days past SLA):\", latest_age)\n",
    "print(\"Duration of the oldest issue (days since opened):\", oldest_duration)\n"
   ]
  },
  {
   "cell_type": "markdown",
   "id": "b3e8d5ee",
   "metadata": {},
   "source": [
    "# 2.\n",
    "How many Stray Animal cases are there?\n"
   ]
  },
  {
   "cell_type": "code",
   "execution_count": 25,
   "id": "081a9d9d",
   "metadata": {},
   "outputs": [
    {
     "name": "stderr",
     "output_type": "stream",
     "text": [
      "23/07/05 12:27:32 WARN TaskSetManager: Stage 30 contains a task of very large size (18868 KiB). The maximum recommended task size is 1000 KiB.\n",
      "                                                                                \r"
     ]
    },
    {
     "data": {
      "text/plain": [
       "26760"
      ]
     },
     "execution_count": 25,
     "metadata": {},
     "output_type": "execute_result"
    }
   ],
   "source": [
    "stray_animal_cases = cases.filter(col(\"service_request_type\") == \"Stray Animal\")\n",
    "stray_animal_cases.count()"
   ]
  },
  {
   "cell_type": "markdown",
   "id": "920209b9",
   "metadata": {},
   "source": [
    "# 3.\n",
    "How many service requests that are assigned to the Field Operations department (dept_division) are not classified as \"Officer Standby\" request type (service_request_type)?\n",
    "\n"
   ]
  },
  {
   "cell_type": "code",
   "execution_count": 26,
   "id": "ab61ce30",
   "metadata": {},
   "outputs": [
    {
     "name": "stderr",
     "output_type": "stream",
     "text": [
      "23/07/05 12:29:07 WARN TaskSetManager: Stage 33 contains a task of very large size (18868 KiB). The maximum recommended task size is 1000 KiB.\n",
      "                                                                                \r"
     ]
    },
    {
     "data": {
      "text/plain": [
       "113902"
      ]
     },
     "execution_count": 26,
     "metadata": {},
     "output_type": "execute_result"
    }
   ],
   "source": [
    "field_operations_requests = cases.filter((col(\"dept_division\") == \"Field Operations\") & (col(\"service_request_type\") != \"Officer Standby\"))\n",
    "field_operations_requests.count()\n",
    "\n",
    "\n"
   ]
  },
  {
   "cell_type": "markdown",
   "id": "be802ed3",
   "metadata": {},
   "source": [
    "# 4.\n",
    "Convert the council_district column to a string column.\n",
    "\n"
   ]
  },
  {
   "cell_type": "code",
   "execution_count": 27,
   "id": "5de2d43f",
   "metadata": {},
   "outputs": [],
   "source": [
    "cases = cases.withColumn(\"council_district\", col(\"council_district\").cast(\"string\"))"
   ]
  },
  {
   "cell_type": "markdown",
   "id": "67f90df7",
   "metadata": {},
   "source": [
    "# 5.\n",
    "Extract the year from the case_closed_date column.\n"
   ]
  },
  {
   "cell_type": "code",
   "execution_count": 45,
   "id": "91162000",
   "metadata": {},
   "outputs": [
    {
     "name": "stderr",
     "output_type": "stream",
     "text": [
      "23/07/05 12:34:58 WARN TaskSetManager: Stage 50 contains a task of very large size (18868 KiB). The maximum recommended task size is 1000 KiB.\n",
      "[Stage 50:>                                                         (0 + 1) / 1]\r"
     ]
    },
    {
     "name": "stdout",
     "output_type": "stream",
     "text": [
      "+-------------------+-----------+\n",
      "|   case_closed_date|closed_year|\n",
      "+-------------------+-----------+\n",
      "|2018-01-01 12:29:00|       2018|\n",
      "|2018-01-03 08:11:00|       2018|\n",
      "|2018-01-02 07:57:00|       2018|\n",
      "|2018-01-02 08:13:00|       2018|\n",
      "|2018-01-01 13:29:00|       2018|\n",
      "+-------------------+-----------+\n",
      "only showing top 5 rows\n",
      "\n"
     ]
    },
    {
     "name": "stderr",
     "output_type": "stream",
     "text": [
      "23/07/05 12:35:02 WARN PythonRunner: Detected deadlock while completing task 0.0 in stage 50 (TID 134): Attempting to kill Python Worker\n",
      "\r",
      "                                                                                \r"
     ]
    }
   ],
   "source": [
    "cases = cases.withColumn(\"closed_year\", year(\"case_closed_date\"))\n",
    "cases.select(\"case_closed_date\", \"closed_year\").show(5)"
   ]
  },
  {
   "cell_type": "markdown",
   "id": "72f0b726",
   "metadata": {},
   "source": [
    "# 6.\n",
    "Convert num_days_late from days to hours in new columns num_hours_late.\n",
    "\n"
   ]
  },
  {
   "cell_type": "code",
   "execution_count": 46,
   "id": "3b14a81e",
   "metadata": {},
   "outputs": [
    {
     "name": "stderr",
     "output_type": "stream",
     "text": [
      "23/07/05 12:38:40 WARN TaskSetManager: Stage 51 contains a task of very large size (18868 KiB). The maximum recommended task size is 1000 KiB.\n",
      "[Stage 51:>                                                         (0 + 1) / 1]\r"
     ]
    },
    {
     "name": "stdout",
     "output_type": "stream",
     "text": [
      "+-------------+-------------------+\n",
      "|num_days_late|     num_hours_late|\n",
      "+-------------+-------------------+\n",
      "| -998.5087616|-23964.210278399998|\n",
      "| -2.012604167|      -48.302500008|\n",
      "| -3.022337963|      -72.536111112|\n",
      "| -15.01148148|      -360.27555552|\n",
      "|  0.372164352|        8.931944448|\n",
      "+-------------+-------------------+\n",
      "only showing top 5 rows\n",
      "\n"
     ]
    },
    {
     "name": "stderr",
     "output_type": "stream",
     "text": [
      "23/07/05 12:38:44 WARN PythonRunner: Detected deadlock while completing task 0.0 in stage 51 (TID 135): Attempting to kill Python Worker\n",
      "\r",
      "                                                                                \r"
     ]
    }
   ],
   "source": [
    "cases = cases.withColumn(\"num_hours_late\", col(\"num_days_late\") * 24)\n",
    "cases.select(\"num_days_late\", \"num_hours_late\").show(5)"
   ]
  },
  {
   "cell_type": "markdown",
   "id": "50e25b9c",
   "metadata": {},
   "source": [
    "# 7.\n",
    "Join the case data with the source and department data.\n",
    "\n"
   ]
  },
  {
   "cell_type": "code",
   "execution_count": 51,
   "id": "550c9a89",
   "metadata": {},
   "outputs": [
    {
     "name": "stderr",
     "output_type": "stream",
     "text": [
      "23/07/05 12:39:42 WARN TaskSetManager: Stage 74 contains a task of very large size (18868 KiB). The maximum recommended task size is 1000 KiB.\n",
      "                                                                                \r"
     ]
    },
    {
     "name": "stdout",
     "output_type": "stream",
     "text": [
      "-RECORD 0--------------------------------------\n",
      " dept_division          | Miscellaneous        \n",
      " source_id              | 141239               \n",
      " case_id                | 1014129438           \n",
      " case_opened_date       | 2018-01-02 12:16:00  \n",
      " case_closed_date       | 2018-01-02 13:49:00  \n",
      " case_due_date          | 2018-01-04 12:16:00  \n",
      " case_late              | false                \n",
      " num_days_late          | -1.935416667         \n",
      " case_closed            | true                 \n",
      " service_request_type   | Dead Animal - Dog    \n",
      " SLA_days               | 2.0                  \n",
      " case_status            | Closed               \n",
      " request_address        | 161  PRICE, San A... \n",
      " council_district       | 4                    \n",
      " closed_year            | 2018                 \n",
      " num_hours_late         | -46.450000007999996  \n",
      " index                  | 31                   \n",
      " source_username        | Erica Flores         \n",
      " dept_name              | Solid Waste Manag... \n",
      " standardized_dept_name | Solid Waste          \n",
      " dept_subject_to_SLA    | YES                  \n",
      "only showing top 1 row\n",
      "\n"
     ]
    }
   ],
   "source": [
    "joined_data = cases.join(source, \"source_id\").join(dept, \"dept_division\")\n",
    "joined_data.show(1, vertical=True)"
   ]
  },
  {
   "cell_type": "markdown",
   "id": "c890d72a",
   "metadata": {},
   "source": [
    "# 8.\n",
    "\n",
    "Are there any cases that do not have a request source?\n",
    "\n"
   ]
  },
  {
   "cell_type": "code",
   "execution_count": 53,
   "id": "94db4c8f",
   "metadata": {},
   "outputs": [
    {
     "name": "stderr",
     "output_type": "stream",
     "text": [
      "23/07/05 12:40:06 WARN TaskSetManager: Stage 88 contains a task of very large size (18868 KiB). The maximum recommended task size is 1000 KiB.\n",
      "                                                                                \r"
     ]
    },
    {
     "data": {
      "text/plain": [
       "0"
      ]
     },
     "execution_count": 53,
     "metadata": {},
     "output_type": "execute_result"
    }
   ],
   "source": [
    "cases_without_source = cases.filter(col(\"source_id\").isNull())\n",
    "cases_without_source.count()"
   ]
  },
  {
   "cell_type": "markdown",
   "id": "e585912f",
   "metadata": {},
   "source": [
    "# 9.\n",
    "What are the top 10 service request types in terms of number of requests?\n",
    "\n"
   ]
  },
  {
   "cell_type": "code",
   "execution_count": 54,
   "id": "baabb246",
   "metadata": {
    "scrolled": true
   },
   "outputs": [
    {
     "name": "stderr",
     "output_type": "stream",
     "text": [
      "23/07/05 12:40:15 WARN TaskSetManager: Stage 91 contains a task of very large size (18868 KiB). The maximum recommended task size is 1000 KiB.\n",
      "[Stage 91:>                                                         (0 + 8) / 8]\r"
     ]
    },
    {
     "name": "stdout",
     "output_type": "stream",
     "text": [
      "+--------------------+-----+\n",
      "|service_request_type|count|\n",
      "+--------------------+-----+\n",
      "|           No Pickup|86855|\n",
      "|Overgrown Yard/Trash|65895|\n",
      "|        Bandit Signs|32910|\n",
      "|        Damaged Cart|30338|\n",
      "|Front Or Side Yar...|28794|\n",
      "|        Stray Animal|26760|\n",
      "|Aggressive Animal...|24882|\n",
      "|Cart Exchange Req...|22024|\n",
      "|Junk Vehicle On P...|21473|\n",
      "|     Pot Hole Repair|20616|\n",
      "+--------------------+-----+\n",
      "\n"
     ]
    },
    {
     "name": "stderr",
     "output_type": "stream",
     "text": [
      "\r",
      "                                                                                \r"
     ]
    }
   ],
   "source": [
    "top_10_request_types = cases.groupBy(\"service_request_type\").count().orderBy(desc(\"count\")).limit(10)\n",
    "top_10_request_types.show()"
   ]
  },
  {
   "cell_type": "markdown",
   "id": "b8993cb9",
   "metadata": {},
   "source": [
    "# 10.\n",
    "What are the top 10 service request types in terms of average days late?\n"
   ]
  },
  {
   "cell_type": "code",
   "execution_count": 55,
   "id": "2042a96c",
   "metadata": {},
   "outputs": [
    {
     "name": "stderr",
     "output_type": "stream",
     "text": [
      "23/07/05 12:40:50 WARN TaskSetManager: Stage 94 contains a task of very large size (18868 KiB). The maximum recommended task size is 1000 KiB.\n",
      "[Stage 94:>                                                         (0 + 8) / 8]\r"
     ]
    },
    {
     "name": "stdout",
     "output_type": "stream",
     "text": [
      "+--------------------+------------------+\n",
      "|service_request_type|avg(num_days_late)|\n",
      "+--------------------+------------------+\n",
      "|Request for Resea...|               NaN|\n",
      "|CCO_Request for R...|               NaN|\n",
      "|  Zoning: Junk Yards|175.95636210420952|\n",
      "|Labeling for Used...|162.43032902285717|\n",
      "|Record Keeping of...| 153.9972403942857|\n",
      "|Signage Requied f...|151.63868055333333|\n",
      "|Storage of Used M...|142.11255641500003|\n",
      "|Zoning: Recycle Yard|135.92851612479797|\n",
      "|Donation Containe...|131.75610506358706|\n",
      "|License Requied U...|128.79828704142858|\n",
      "+--------------------+------------------+\n",
      "\n"
     ]
    },
    {
     "name": "stderr",
     "output_type": "stream",
     "text": [
      "\r",
      "[Stage 94:=======>                                                  (1 + 7) / 8]\r",
      "\r",
      "                                                                                \r"
     ]
    }
   ],
   "source": [
    "top_10_request_types_avg_late = cases.groupBy(\"service_request_type\").avg(\"num_days_late\").orderBy(desc(\"avg(num_days_late)\")).limit(10)\n",
    "top_10_request_types_avg_late.show()"
   ]
  },
  {
   "cell_type": "markdown",
   "id": "3b68c20a",
   "metadata": {},
   "source": [
    "# 11.\n",
    "Does number of days late depend on department?\n"
   ]
  },
  {
   "cell_type": "code",
   "execution_count": 57,
   "id": "712bbf7a",
   "metadata": {},
   "outputs": [
    {
     "name": "stderr",
     "output_type": "stream",
     "text": [
      "23/07/05 12:41:51 WARN TaskSetManager: Stage 100 contains a task of very large size (18868 KiB). The maximum recommended task size is 1000 KiB.\n",
      "[Stage 100:>                                                        (0 + 8) / 8]\r"
     ]
    },
    {
     "name": "stdout",
     "output_type": "stream",
     "text": [
      "+--------------------+-------------------+\n",
      "|       dept_division| avg(num_days_late)|\n",
      "+--------------------+-------------------+\n",
      "|     311 Call Center|  59.49019459221512|\n",
      "|               Brush|-3.9898705352285626|\n",
      "|     Clean and Green| -2.574899988068109|\n",
      "|Clean and Green N...|  1.691468919487805|\n",
      "|    Code Enforcement| -38.24009089561048|\n",
      "+--------------------+-------------------+\n",
      "only showing top 5 rows\n",
      "\n"
     ]
    },
    {
     "name": "stderr",
     "output_type": "stream",
     "text": [
      "\r",
      "                                                                                \r"
     ]
    }
   ],
   "source": [
    "average_days_late_by_department = cases.groupBy(\"dept_division\").avg(\"num_days_late\").orderBy(\"dept_division\")\n",
    "average_days_late_by_department.show(5)"
   ]
  },
  {
   "cell_type": "markdown",
   "id": "b784e653",
   "metadata": {},
   "source": [
    "# 12.\n",
    "How do number of days late depend on department and request type?"
   ]
  },
  {
   "cell_type": "code",
   "execution_count": 58,
   "id": "51b1fbcc",
   "metadata": {},
   "outputs": [
    {
     "name": "stderr",
     "output_type": "stream",
     "text": [
      "23/07/05 12:41:59 WARN TaskSetManager: Stage 103 contains a task of very large size (18868 KiB). The maximum recommended task size is 1000 KiB.\n",
      "[Stage 103:>                                                        (0 + 8) / 8]\r"
     ]
    },
    {
     "name": "stdout",
     "output_type": "stream",
     "text": [
      "+---------------+--------------------+------------------+\n",
      "|  dept_division|service_request_type|avg(num_days_late)|\n",
      "+---------------+--------------------+------------------+\n",
      "|311 Call Center|           Complaint| 72.51790932659712|\n",
      "|311 Call Center|          Compliment|-7.993932925581345|\n",
      "|          Brush|Brush - Out of Cy...|-4.327971198733802|\n",
      "|          Brush|Brush / Bulky Mis...|-3.042030021533073|\n",
      "|          Brush|Brush Missed Pick up|-5.882082558993797|\n",
      "+---------------+--------------------+------------------+\n",
      "only showing top 5 rows\n",
      "\n"
     ]
    },
    {
     "name": "stderr",
     "output_type": "stream",
     "text": [
      "\r",
      "                                                                                \r"
     ]
    }
   ],
   "source": [
    "average_days_late_by_department_request_type = cases.groupBy(\"dept_division\", \"service_request_type\").avg(\"num_days_late\").orderBy(\"dept_division\", \"service_request_type\")\n",
    "average_days_late_by_department_request_type.show(5)"
   ]
  }
 ],
 "metadata": {
  "kernelspec": {
   "display_name": "Python 3 (ipykernel)",
   "language": "python",
   "name": "python3"
  },
  "language_info": {
   "codemirror_mode": {
    "name": "ipython",
    "version": 3
   },
   "file_extension": ".py",
   "mimetype": "text/x-python",
   "name": "python",
   "nbconvert_exporter": "python",
   "pygments_lexer": "ipython3",
   "version": "3.9.13"
  }
 },
 "nbformat": 4,
 "nbformat_minor": 5
}
