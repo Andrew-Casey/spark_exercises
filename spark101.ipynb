{
 "cells": [
  {
   "cell_type": "code",
   "execution_count": 1,
   "id": "665fb1eb",
   "metadata": {},
   "outputs": [
    {
     "name": "stderr",
     "output_type": "stream",
     "text": [
      "Setting default log level to \"WARN\".\n",
      "To adjust logging level use sc.setLogLevel(newLevel). For SparkR, use setLogLevel(newLevel).\n",
      "23/06/30 14:17:43 WARN NativeCodeLoader: Unable to load native-hadoop library for your platform... using builtin-java classes where applicable\n"
     ]
    }
   ],
   "source": [
    "import pandas as pd\n",
    "import numpy as np\n",
    "#import spark for python\n",
    "import pyspark\n",
    "from pyspark.sql.functions import col\n",
    "from pyspark.sql.functions import expr\n",
    "from pyspark.sql.functions import min, max, sum, count, mean, avg\n",
    "from pyspark.sql.functions import concat, lit\n",
    "from pyspark.sql.functions import regexp_extract, regexp_replace\n",
    "from pyspark.sql.functions import when\n",
    "from pyspark.sql.functions import month, year, quarter, round\n",
    "#create the spark session\n",
    "spark = pyspark.sql.SparkSession.builder.getOrCreate()\n",
    "spark\n",
    "\n",
    "from pydataset import data"
   ]
  },
  {
   "cell_type": "markdown",
   "id": "cbc1d9e1",
   "metadata": {},
   "source": [
    "# 1.\n",
    "Create a spark data frame that contains your favorite programming languages.\n",
    "The name of the column should be language\n"
   ]
  },
  {
   "cell_type": "code",
   "execution_count": 2,
   "id": "ae02b505",
   "metadata": {},
   "outputs": [
    {
     "data": {
      "text/html": [
       "<div>\n",
       "<style scoped>\n",
       "    .dataframe tbody tr th:only-of-type {\n",
       "        vertical-align: middle;\n",
       "    }\n",
       "\n",
       "    .dataframe tbody tr th {\n",
       "        vertical-align: top;\n",
       "    }\n",
       "\n",
       "    .dataframe thead th {\n",
       "        text-align: right;\n",
       "    }\n",
       "</style>\n",
       "<table border=\"1\" class=\"dataframe\">\n",
       "  <thead>\n",
       "    <tr style=\"text-align: right;\">\n",
       "      <th></th>\n",
       "      <th>language</th>\n",
       "    </tr>\n",
       "  </thead>\n",
       "  <tbody>\n",
       "    <tr>\n",
       "      <th>0</th>\n",
       "      <td>Python</td>\n",
       "    </tr>\n",
       "    <tr>\n",
       "      <th>1</th>\n",
       "      <td>Java</td>\n",
       "    </tr>\n",
       "    <tr>\n",
       "      <th>2</th>\n",
       "      <td>JavaScript</td>\n",
       "    </tr>\n",
       "    <tr>\n",
       "      <th>3</th>\n",
       "      <td>Ruby</td>\n",
       "    </tr>\n",
       "    <tr>\n",
       "      <th>4</th>\n",
       "      <td>Go</td>\n",
       "    </tr>\n",
       "    <tr>\n",
       "      <th>5</th>\n",
       "      <td>R</td>\n",
       "    </tr>\n",
       "  </tbody>\n",
       "</table>\n",
       "</div>"
      ],
      "text/plain": [
       "     language\n",
       "0      Python\n",
       "1        Java\n",
       "2  JavaScript\n",
       "3        Ruby\n",
       "4          Go\n",
       "5           R"
      ]
     },
     "execution_count": 2,
     "metadata": {},
     "output_type": "execute_result"
    }
   ],
   "source": [
    "# Define your favorite programming languages\n",
    "favorite_languages = [\"Python\", \"Java\", \"JavaScript\", \"Ruby\", \"Go\", \"R\"]\n",
    "\n",
    "# Create a pandas DataFrame with a column named \"language\"\n",
    "pandas_dataframe = pd.DataFrame({\"language\": favorite_languages})\n",
    "\n",
    "# Display the DataFrame\n",
    "pandas_dataframe\n"
   ]
  },
  {
   "cell_type": "code",
   "execution_count": 3,
   "id": "40006bb6",
   "metadata": {},
   "outputs": [
    {
     "name": "stderr",
     "output_type": "stream",
     "text": [
      "\r",
      "[Stage 0:>                                                          (0 + 1) / 1]\r"
     ]
    },
    {
     "name": "stdout",
     "output_type": "stream",
     "text": [
      "+----------+\n",
      "|  language|\n",
      "+----------+\n",
      "|    Python|\n",
      "|      Java|\n",
      "|JavaScript|\n",
      "|      Ruby|\n",
      "|        Go|\n",
      "|         R|\n",
      "+----------+\n",
      "\n"
     ]
    },
    {
     "name": "stderr",
     "output_type": "stream",
     "text": [
      "\r",
      "                                                                                \r"
     ]
    }
   ],
   "source": [
    "#create spark dataframe \n",
    "df = spark.createDataFrame(pandas_dataframe)\n",
    "df.show()"
   ]
  },
  {
   "cell_type": "markdown",
   "id": "a544892d",
   "metadata": {},
   "source": [
    "View the schema of the dataframe\n"
   ]
  },
  {
   "cell_type": "code",
   "execution_count": 4,
   "id": "8641dffe",
   "metadata": {},
   "outputs": [
    {
     "name": "stdout",
     "output_type": "stream",
     "text": [
      "root\n",
      " |-- language: string (nullable = true)\n",
      "\n"
     ]
    }
   ],
   "source": [
    "#print schema\n",
    "df.printSchema()"
   ]
  },
  {
   "cell_type": "markdown",
   "id": "1ee7606a",
   "metadata": {},
   "source": [
    "Output the shape of the dataframe\n"
   ]
  },
  {
   "cell_type": "code",
   "execution_count": 5,
   "id": "fa1e976a",
   "metadata": {},
   "outputs": [
    {
     "data": {
      "text/plain": [
       "(6, 1)"
      ]
     },
     "execution_count": 5,
     "metadata": {},
     "output_type": "execute_result"
    }
   ],
   "source": [
    "#show shape (spark)\n",
    "df.count(), len(df.columns)\n"
   ]
  },
  {
   "cell_type": "markdown",
   "id": "e3e5be93",
   "metadata": {},
   "source": [
    "Show the first 5 records in the dataframe"
   ]
  },
  {
   "cell_type": "code",
   "execution_count": 6,
   "id": "a960ade6",
   "metadata": {},
   "outputs": [
    {
     "name": "stdout",
     "output_type": "stream",
     "text": [
      "+----------+\n",
      "|  language|\n",
      "+----------+\n",
      "|    Python|\n",
      "|      Java|\n",
      "|JavaScript|\n",
      "|      Ruby|\n",
      "|        Go|\n",
      "+----------+\n",
      "only showing top 5 rows\n",
      "\n"
     ]
    }
   ],
   "source": [
    "df.show(5)"
   ]
  },
  {
   "cell_type": "markdown",
   "id": "375b3173",
   "metadata": {},
   "source": [
    "# 2.\n",
    "Load the mpg dataset as a spark dataframe.\n",
    "\n",
    "\n"
   ]
  },
  {
   "cell_type": "code",
   "execution_count": 7,
   "id": "5db78daf",
   "metadata": {},
   "outputs": [
    {
     "name": "stdout",
     "output_type": "stream",
     "text": [
      "+------------+------------------+-----+----+---+----------+---+---+---+---+-------+\n",
      "|manufacturer|             model|displ|year|cyl|     trans|drv|cty|hwy| fl|  class|\n",
      "+------------+------------------+-----+----+---+----------+---+---+---+---+-------+\n",
      "|        audi|                a4|  1.8|1999|  4|  auto(l5)|  f| 18| 29|  p|compact|\n",
      "|        audi|                a4|  1.8|1999|  4|manual(m5)|  f| 21| 29|  p|compact|\n",
      "|        audi|                a4|  2.0|2008|  4|manual(m6)|  f| 20| 31|  p|compact|\n",
      "|        audi|                a4|  2.0|2008|  4|  auto(av)|  f| 21| 30|  p|compact|\n",
      "|        audi|                a4|  2.8|1999|  6|  auto(l5)|  f| 16| 26|  p|compact|\n",
      "|        audi|                a4|  2.8|1999|  6|manual(m5)|  f| 18| 26|  p|compact|\n",
      "|        audi|                a4|  3.1|2008|  6|  auto(av)|  f| 18| 27|  p|compact|\n",
      "|        audi|        a4 quattro|  1.8|1999|  4|manual(m5)|  4| 18| 26|  p|compact|\n",
      "|        audi|        a4 quattro|  1.8|1999|  4|  auto(l5)|  4| 16| 25|  p|compact|\n",
      "|        audi|        a4 quattro|  2.0|2008|  4|manual(m6)|  4| 20| 28|  p|compact|\n",
      "|        audi|        a4 quattro|  2.0|2008|  4|  auto(s6)|  4| 19| 27|  p|compact|\n",
      "|        audi|        a4 quattro|  2.8|1999|  6|  auto(l5)|  4| 15| 25|  p|compact|\n",
      "|        audi|        a4 quattro|  2.8|1999|  6|manual(m5)|  4| 17| 25|  p|compact|\n",
      "|        audi|        a4 quattro|  3.1|2008|  6|  auto(s6)|  4| 17| 25|  p|compact|\n",
      "|        audi|        a4 quattro|  3.1|2008|  6|manual(m6)|  4| 15| 25|  p|compact|\n",
      "|        audi|        a6 quattro|  2.8|1999|  6|  auto(l5)|  4| 15| 24|  p|midsize|\n",
      "|        audi|        a6 quattro|  3.1|2008|  6|  auto(s6)|  4| 17| 25|  p|midsize|\n",
      "|        audi|        a6 quattro|  4.2|2008|  8|  auto(s6)|  4| 16| 23|  p|midsize|\n",
      "|   chevrolet|c1500 suburban 2wd|  5.3|2008|  8|  auto(l4)|  r| 14| 20|  r|    suv|\n",
      "|   chevrolet|c1500 suburban 2wd|  5.3|2008|  8|  auto(l4)|  r| 11| 15|  e|    suv|\n",
      "+------------+------------------+-----+----+---+----------+---+---+---+---+-------+\n",
      "only showing top 20 rows\n",
      "\n"
     ]
    }
   ],
   "source": [
    "#import mpg as a spark data frame\n",
    "df = spark.createDataFrame(data('mpg'))\n",
    "df.show()"
   ]
  },
  {
   "cell_type": "markdown",
   "id": "37b52758",
   "metadata": {},
   "source": [
    "Create 1 column of output that contains a message like the one below:\n",
    "\n",
    "The 1999 audi a4 has a 4 cylinder engine."
   ]
  },
  {
   "cell_type": "code",
   "execution_count": 8,
   "id": "0cce222d",
   "metadata": {},
   "outputs": [
    {
     "name": "stdout",
     "output_type": "stream",
     "text": [
      "+-----------------------------------------+\n",
      "|output                                   |\n",
      "+-----------------------------------------+\n",
      "|The 1999 audi a4 has a 4 cylinder engine.|\n",
      "+-----------------------------------------+\n",
      "only showing top 1 row\n",
      "\n"
     ]
    }
   ],
   "source": [
    "# Select the desired columns and create a new column with the desired output message\n",
    "df = df.select(\n",
    "    concat(\n",
    "        lit(\"The \"), df[\"year\"], lit(\" \"), df[\"manufacturer\"], lit(\" \"), df[\"model\"],\n",
    "        lit(\" has a \"), df[\"cyl\"], lit(\" cylinder engine.\")\n",
    "    ).alias(\"output\")\n",
    ")\n",
    "\n",
    "df.show(1, truncate=False)\n",
    "\n"
   ]
  },
  {
   "cell_type": "markdown",
   "id": "8c0ddfde",
   "metadata": {},
   "source": [
    "For each vehicle.\n",
    "\n",
    "Transform the trans column so that it only contains either manual or auto."
   ]
  },
  {
   "cell_type": "code",
   "execution_count": 9,
   "id": "03b0049b",
   "metadata": {},
   "outputs": [
    {
     "name": "stdout",
     "output_type": "stream",
     "text": [
      "+------------+------------------+-----+----+---+----------+---+---+---+---+-------+\n",
      "|manufacturer|             model|displ|year|cyl|     trans|drv|cty|hwy| fl|  class|\n",
      "+------------+------------------+-----+----+---+----------+---+---+---+---+-------+\n",
      "|        audi|                a4|  1.8|1999|  4|  auto(l5)|  f| 18| 29|  p|compact|\n",
      "|        audi|                a4|  1.8|1999|  4|manual(m5)|  f| 21| 29|  p|compact|\n",
      "|        audi|                a4|  2.0|2008|  4|manual(m6)|  f| 20| 31|  p|compact|\n",
      "|        audi|                a4|  2.0|2008|  4|  auto(av)|  f| 21| 30|  p|compact|\n",
      "|        audi|                a4|  2.8|1999|  6|  auto(l5)|  f| 16| 26|  p|compact|\n",
      "|        audi|                a4|  2.8|1999|  6|manual(m5)|  f| 18| 26|  p|compact|\n",
      "|        audi|                a4|  3.1|2008|  6|  auto(av)|  f| 18| 27|  p|compact|\n",
      "|        audi|        a4 quattro|  1.8|1999|  4|manual(m5)|  4| 18| 26|  p|compact|\n",
      "|        audi|        a4 quattro|  1.8|1999|  4|  auto(l5)|  4| 16| 25|  p|compact|\n",
      "|        audi|        a4 quattro|  2.0|2008|  4|manual(m6)|  4| 20| 28|  p|compact|\n",
      "|        audi|        a4 quattro|  2.0|2008|  4|  auto(s6)|  4| 19| 27|  p|compact|\n",
      "|        audi|        a4 quattro|  2.8|1999|  6|  auto(l5)|  4| 15| 25|  p|compact|\n",
      "|        audi|        a4 quattro|  2.8|1999|  6|manual(m5)|  4| 17| 25|  p|compact|\n",
      "|        audi|        a4 quattro|  3.1|2008|  6|  auto(s6)|  4| 17| 25|  p|compact|\n",
      "|        audi|        a4 quattro|  3.1|2008|  6|manual(m6)|  4| 15| 25|  p|compact|\n",
      "|        audi|        a6 quattro|  2.8|1999|  6|  auto(l5)|  4| 15| 24|  p|midsize|\n",
      "|        audi|        a6 quattro|  3.1|2008|  6|  auto(s6)|  4| 17| 25|  p|midsize|\n",
      "|        audi|        a6 quattro|  4.2|2008|  8|  auto(s6)|  4| 16| 23|  p|midsize|\n",
      "|   chevrolet|c1500 suburban 2wd|  5.3|2008|  8|  auto(l4)|  r| 14| 20|  r|    suv|\n",
      "|   chevrolet|c1500 suburban 2wd|  5.3|2008|  8|  auto(l4)|  r| 11| 15|  e|    suv|\n",
      "+------------+------------------+-----+----+---+----------+---+---+---+---+-------+\n",
      "only showing top 20 rows\n",
      "\n"
     ]
    }
   ],
   "source": [
    "# get clean df\n",
    "df = spark.createDataFrame(data('mpg'))\n",
    "df.show()"
   ]
  },
  {
   "cell_type": "code",
   "execution_count": 10,
   "id": "499c431b",
   "metadata": {},
   "outputs": [
    {
     "name": "stdout",
     "output_type": "stream",
     "text": [
      "+------------+------------------+-----+----+---+------+---+---+---+---+-------+\n",
      "|manufacturer|             model|displ|year|cyl| trans|drv|cty|hwy| fl|  class|\n",
      "+------------+------------------+-----+----+---+------+---+---+---+---+-------+\n",
      "|        audi|                a4|  1.8|1999|  4|  auto|  f| 18| 29|  p|compact|\n",
      "|        audi|                a4|  1.8|1999|  4|manual|  f| 21| 29|  p|compact|\n",
      "|        audi|                a4|  2.0|2008|  4|manual|  f| 20| 31|  p|compact|\n",
      "|        audi|                a4|  2.0|2008|  4|  auto|  f| 21| 30|  p|compact|\n",
      "|        audi|                a4|  2.8|1999|  6|  auto|  f| 16| 26|  p|compact|\n",
      "|        audi|                a4|  2.8|1999|  6|manual|  f| 18| 26|  p|compact|\n",
      "|        audi|                a4|  3.1|2008|  6|  auto|  f| 18| 27|  p|compact|\n",
      "|        audi|        a4 quattro|  1.8|1999|  4|manual|  4| 18| 26|  p|compact|\n",
      "|        audi|        a4 quattro|  1.8|1999|  4|  auto|  4| 16| 25|  p|compact|\n",
      "|        audi|        a4 quattro|  2.0|2008|  4|manual|  4| 20| 28|  p|compact|\n",
      "|        audi|        a4 quattro|  2.0|2008|  4|  auto|  4| 19| 27|  p|compact|\n",
      "|        audi|        a4 quattro|  2.8|1999|  6|  auto|  4| 15| 25|  p|compact|\n",
      "|        audi|        a4 quattro|  2.8|1999|  6|manual|  4| 17| 25|  p|compact|\n",
      "|        audi|        a4 quattro|  3.1|2008|  6|  auto|  4| 17| 25|  p|compact|\n",
      "|        audi|        a4 quattro|  3.1|2008|  6|manual|  4| 15| 25|  p|compact|\n",
      "|        audi|        a6 quattro|  2.8|1999|  6|  auto|  4| 15| 24|  p|midsize|\n",
      "|        audi|        a6 quattro|  3.1|2008|  6|  auto|  4| 17| 25|  p|midsize|\n",
      "|        audi|        a6 quattro|  4.2|2008|  8|  auto|  4| 16| 23|  p|midsize|\n",
      "|   chevrolet|c1500 suburban 2wd|  5.3|2008|  8|  auto|  r| 14| 20|  r|    suv|\n",
      "|   chevrolet|c1500 suburban 2wd|  5.3|2008|  8|  auto|  r| 11| 15|  e|    suv|\n",
      "+------------+------------------+-----+----+---+------+---+---+---+---+-------+\n",
      "only showing top 20 rows\n",
      "\n"
     ]
    }
   ],
   "source": [
    "# Transform the \"trans\" column\n",
    "df = df.withColumn(\"trans\", when(df[\"trans\"].like(\"%manual%\"), \"manual\").otherwise(\"auto\"))\n",
    "\n",
    "# Show the updated DataFrame\n",
    "df.show()"
   ]
  },
  {
   "cell_type": "markdown",
   "id": "89fb3135",
   "metadata": {},
   "source": [
    "# 3.\n",
    "Load the tips dataset as a spark dataframe.\n",
    "\n",
    "\n"
   ]
  },
  {
   "cell_type": "code",
   "execution_count": 11,
   "id": "a30c09a8",
   "metadata": {},
   "outputs": [
    {
     "name": "stdout",
     "output_type": "stream",
     "text": [
      "+----------+----+------+------+---+------+----+\n",
      "|total_bill| tip|   sex|smoker|day|  time|size|\n",
      "+----------+----+------+------+---+------+----+\n",
      "|     16.99|1.01|Female|    No|Sun|Dinner|   2|\n",
      "|     10.34|1.66|  Male|    No|Sun|Dinner|   3|\n",
      "|     21.01| 3.5|  Male|    No|Sun|Dinner|   3|\n",
      "|     23.68|3.31|  Male|    No|Sun|Dinner|   2|\n",
      "|     24.59|3.61|Female|    No|Sun|Dinner|   4|\n",
      "|     25.29|4.71|  Male|    No|Sun|Dinner|   4|\n",
      "|      8.77| 2.0|  Male|    No|Sun|Dinner|   2|\n",
      "|     26.88|3.12|  Male|    No|Sun|Dinner|   4|\n",
      "|     15.04|1.96|  Male|    No|Sun|Dinner|   2|\n",
      "|     14.78|3.23|  Male|    No|Sun|Dinner|   2|\n",
      "|     10.27|1.71|  Male|    No|Sun|Dinner|   2|\n",
      "|     35.26| 5.0|Female|    No|Sun|Dinner|   4|\n",
      "|     15.42|1.57|  Male|    No|Sun|Dinner|   2|\n",
      "|     18.43| 3.0|  Male|    No|Sun|Dinner|   4|\n",
      "|     14.83|3.02|Female|    No|Sun|Dinner|   2|\n",
      "|     21.58|3.92|  Male|    No|Sun|Dinner|   2|\n",
      "|     10.33|1.67|Female|    No|Sun|Dinner|   3|\n",
      "|     16.29|3.71|  Male|    No|Sun|Dinner|   3|\n",
      "|     16.97| 3.5|Female|    No|Sun|Dinner|   3|\n",
      "|     20.65|3.35|  Male|    No|Sat|Dinner|   3|\n",
      "+----------+----+------+------+---+------+----+\n",
      "only showing top 20 rows\n",
      "\n"
     ]
    }
   ],
   "source": [
    "# get clean df\n",
    "df = spark.createDataFrame(data('tips'))\n",
    "df.show()"
   ]
  },
  {
   "cell_type": "markdown",
   "id": "ec7c4356",
   "metadata": {},
   "source": [
    "What percentage of observations are smokers?"
   ]
  },
  {
   "cell_type": "code",
   "execution_count": 30,
   "id": "35592360",
   "metadata": {},
   "outputs": [
    {
     "name": "stdout",
     "output_type": "stream",
     "text": [
      "+---------------------------------------------------------------+\n",
      "|((count(CASE WHEN (smoker = Yes) THEN 1 END) / count(1)) * 100)|\n",
      "+---------------------------------------------------------------+\n",
      "|                                             38.114754098360656|\n",
      "+---------------------------------------------------------------+\n",
      "\n"
     ]
    }
   ],
   "source": [
    "smoker_percentage = df.groupBy().agg((count(when(df[\"smoker\"] == \"Yes\", 1)) / count(\"*\")) * 100)\n",
    "smoker_percentage.show()"
   ]
  },
  {
   "cell_type": "markdown",
   "id": "841eaeb1",
   "metadata": {},
   "source": [
    "Create a column that contains the tip percentage\n"
   ]
  },
  {
   "cell_type": "code",
   "execution_count": 31,
   "id": "aa084d43",
   "metadata": {},
   "outputs": [
    {
     "name": "stdout",
     "output_type": "stream",
     "text": [
      "+----------+----+------+------+---+------+----+------------------+\n",
      "|total_bill| tip|   sex|smoker|day|  time|size|    tip_percentage|\n",
      "+----------+----+------+------+---+------+----+------------------+\n",
      "|     16.99|1.01|Female|    No|Sun|Dinner|   2|5.9446733372572105|\n",
      "|     10.34|1.66|  Male|    No|Sun|Dinner|   3|16.054158607350097|\n",
      "|     21.01| 3.5|  Male|    No|Sun|Dinner|   3|16.658733936220845|\n",
      "|     23.68|3.31|  Male|    No|Sun|Dinner|   2| 13.97804054054054|\n",
      "|     24.59|3.61|Female|    No|Sun|Dinner|   4|14.680764538430255|\n",
      "|     25.29|4.71|  Male|    No|Sun|Dinner|   4| 18.62396204033215|\n",
      "|      8.77| 2.0|  Male|    No|Sun|Dinner|   2| 22.80501710376283|\n",
      "|     26.88|3.12|  Male|    No|Sun|Dinner|   4|11.607142857142858|\n",
      "|     15.04|1.96|  Male|    No|Sun|Dinner|   2|13.031914893617023|\n",
      "|     14.78|3.23|  Male|    No|Sun|Dinner|   2|21.853856562922868|\n",
      "|     10.27|1.71|  Male|    No|Sun|Dinner|   2| 16.65043816942551|\n",
      "|     35.26| 5.0|Female|    No|Sun|Dinner|   4|14.180374361883155|\n",
      "|     15.42|1.57|  Male|    No|Sun|Dinner|   2|10.181582360570687|\n",
      "|     18.43| 3.0|  Male|    No|Sun|Dinner|   4|16.277807921866522|\n",
      "|     14.83|3.02|Female|    No|Sun|Dinner|   2|20.364126770060686|\n",
      "|     21.58|3.92|  Male|    No|Sun|Dinner|   2|18.164967562557923|\n",
      "|     10.33|1.67|Female|    No|Sun|Dinner|   3| 16.16650532429816|\n",
      "|     16.29|3.71|  Male|    No|Sun|Dinner|   3|22.774708410067525|\n",
      "|     16.97| 3.5|Female|    No|Sun|Dinner|   3|20.624631703005306|\n",
      "|     20.65|3.35|  Male|    No|Sat|Dinner|   3|16.222760290556902|\n",
      "+----------+----+------+------+---+------+----+------------------+\n",
      "only showing top 20 rows\n",
      "\n"
     ]
    }
   ],
   "source": [
    "# Create a new column with the tip percentage\n",
    "df = df.withColumn(\"tip_percentage\", (col(\"tip\") / col(\"total_bill\")) * 100)\n",
    "\n",
    "# Show the updated DataFrame\n",
    "df.show()"
   ]
  },
  {
   "cell_type": "markdown",
   "id": "a990be15",
   "metadata": {},
   "source": [
    "Calculate the average tip percentage for each combination of sex and smoker."
   ]
  },
  {
   "cell_type": "code",
   "execution_count": 32,
   "id": "91962aad",
   "metadata": {},
   "outputs": [
    {
     "name": "stdout",
     "output_type": "stream",
     "text": [
      "+------+------+------------------+\n",
      "|   sex|smoker|avg_tip_percentage|\n",
      "+------+------+------------------+\n",
      "|  Male|    No| 16.06687151291298|\n",
      "|Female|    No| 15.69209707691836|\n",
      "|  Male|   Yes|15.277117520248513|\n",
      "|Female|   Yes| 18.21503526994103|\n",
      "+------+------+------------------+\n",
      "\n"
     ]
    }
   ],
   "source": [
    "# Calculate the average tip percentage for each combination of sex and smoker\n",
    "avg_tip_percentage = df.groupBy(\"sex\", \"smoker\").agg(avg(\"tip_percentage\").alias(\"avg_tip_percentage\"))\n",
    "\n",
    "# Show the DataFrame\n",
    "avg_tip_percentage.show()"
   ]
  },
  {
   "cell_type": "markdown",
   "id": "c56db1d6",
   "metadata": {},
   "source": [
    "# 4. \n",
    "Use the seattle weather dataset referenced in the lesson to answer the questions below.\n",
    "\n"
   ]
  },
  {
   "cell_type": "code",
   "execution_count": 33,
   "id": "9f5d437a",
   "metadata": {},
   "outputs": [
    {
     "name": "stdout",
     "output_type": "stream",
     "text": [
      "+----------+-------------+--------+--------+----+-------+\n",
      "|      date|precipitation|temp_max|temp_min|wind|weather|\n",
      "+----------+-------------+--------+--------+----+-------+\n",
      "|2012-01-01|          0.0|    12.8|     5.0| 4.7|drizzle|\n",
      "|2012-01-02|         10.9|    10.6|     2.8| 4.5|   rain|\n",
      "|2012-01-03|          0.8|    11.7|     7.2| 2.3|   rain|\n",
      "|2012-01-04|         20.3|    12.2|     5.6| 4.7|   rain|\n",
      "|2012-01-05|          1.3|     8.9|     2.8| 6.1|   rain|\n",
      "|2012-01-06|          2.5|     4.4|     2.2| 2.2|   rain|\n",
      "+----------+-------------+--------+--------+----+-------+\n",
      "only showing top 6 rows\n",
      "\n"
     ]
    }
   ],
   "source": [
    "from vega_datasets import data\n",
    "\n",
    "weather = data.seattle_weather().assign(date=lambda df: df.date.astype(str))\n",
    "df = spark.createDataFrame(weather)\n",
    "df.show(6)"
   ]
  },
  {
   "cell_type": "markdown",
   "id": "2d7078f6",
   "metadata": {},
   "source": [
    "Convert the temperatures to fahrenheit.\n",
    "\n",
    "\n",
    "\n",
    "\n"
   ]
  },
  {
   "cell_type": "code",
   "execution_count": 34,
   "id": "8a100cf1",
   "metadata": {},
   "outputs": [
    {
     "name": "stdout",
     "output_type": "stream",
     "text": [
      "+----------+-------------+--------+--------+----+-------+-------------------+-------------------+\n",
      "|      date|precipitation|temp_max|temp_min|wind|weather|temp_max_fahrenheit|temp_min_fahrenheit|\n",
      "+----------+-------------+--------+--------+----+-------+-------------------+-------------------+\n",
      "|2012-01-01|          0.0|    12.8|     5.0| 4.7|drizzle|              55.04|               41.0|\n",
      "|2012-01-02|         10.9|    10.6|     2.8| 4.5|   rain|              51.08|              37.04|\n",
      "|2012-01-03|          0.8|    11.7|     7.2| 2.3|   rain|              53.06|              44.96|\n",
      "|2012-01-04|         20.3|    12.2|     5.6| 4.7|   rain|              53.96|              42.08|\n",
      "|2012-01-05|          1.3|     8.9|     2.8| 6.1|   rain|              48.02|              37.04|\n",
      "|2012-01-06|          2.5|     4.4|     2.2| 2.2|   rain|              39.92|              35.96|\n",
      "|2012-01-07|          0.0|     7.2|     2.8| 2.3|   rain|              44.96|              37.04|\n",
      "|2012-01-08|          0.0|    10.0|     2.8| 2.0|    sun|               50.0|              37.04|\n",
      "|2012-01-09|          4.3|     9.4|     5.0| 3.4|   rain|              48.92|               41.0|\n",
      "|2012-01-10|          1.0|     6.1|     0.6| 3.4|   rain| 42.980000000000004|              33.08|\n",
      "|2012-01-11|          0.0|     6.1|    -1.1| 5.1|    sun| 42.980000000000004|              30.02|\n",
      "|2012-01-12|          0.0|     6.1|    -1.7| 1.9|    sun| 42.980000000000004|              28.94|\n",
      "|2012-01-13|          0.0|     5.0|    -2.8| 1.3|    sun|               41.0|              26.96|\n",
      "|2012-01-14|          4.1|     4.4|     0.6| 5.3|   snow|              39.92|              33.08|\n",
      "|2012-01-15|          5.3|     1.1|    -3.3| 3.2|   snow|              33.98| 26.060000000000002|\n",
      "|2012-01-16|          2.5|     1.7|    -2.8| 5.0|   snow|              35.06|              26.96|\n",
      "|2012-01-17|          8.1|     3.3|     0.0| 5.6|   snow|              37.94|               32.0|\n",
      "|2012-01-18|         19.8|     0.0|    -2.8| 5.0|   snow|               32.0|              26.96|\n",
      "|2012-01-19|         15.2|    -1.1|    -2.8| 1.6|   snow|              30.02|              26.96|\n",
      "|2012-01-20|         13.5|     7.2|    -1.1| 2.3|   snow|              44.96|              30.02|\n",
      "+----------+-------------+--------+--------+----+-------+-------------------+-------------------+\n",
      "only showing top 20 rows\n",
      "\n"
     ]
    }
   ],
   "source": [
    "# Convert temperatures from Celsius to Fahrenheit\n",
    "df = df.withColumn(\"temp_max_fahrenheit\", (df[\"temp_max\"] * 9/5) + 32)\n",
    "df = df.withColumn(\"temp_min_fahrenheit\", (df[\"temp_min\"] * 9/5) + 32)\n",
    "\n",
    "# Show the updated DataFrame\n",
    "df.show()"
   ]
  },
  {
   "cell_type": "markdown",
   "id": "e9d90c4f",
   "metadata": {},
   "source": [
    "\n",
    "Which month has the most rain, on average?\n"
   ]
  },
  {
   "cell_type": "code",
   "execution_count": 35,
   "id": "b3d0d0fb",
   "metadata": {
    "scrolled": true
   },
   "outputs": [
    {
     "name": "stdout",
     "output_type": "stream",
     "text": [
      "Month with the most rain, on average: 11\n"
     ]
    }
   ],
   "source": [
    "# Extract the month from the date column\n",
    "df = df.withColumn(\"month\", month(df[\"date\"]))\n",
    "\n",
    "# Calculate the average rainfall for each month\n",
    "avg_rainfall_by_month = df.groupBy(\"month\").agg(avg(\"precipitation\").alias(\"avg_rainfall\"))\n",
    "\n",
    "# Find the month with the highest average rainfall\n",
    "month_with_most_rain = avg_rainfall_by_month.orderBy(\"avg_rainfall\", ascending=False).first()[\"month\"]"
   ]
  },
  {
   "cell_type": "code",
   "execution_count": 39,
   "id": "7768d25a",
   "metadata": {},
   "outputs": [
    {
     "name": "stdout",
     "output_type": "stream",
     "text": [
      "+-----+-------------------+\n",
      "|month|       avg_rainfall|\n",
      "+-----+-------------------+\n",
      "|    1| 3.7580645161290316|\n",
      "|    6| 1.1075000000000002|\n",
      "|    3|  4.888709677419355|\n",
      "|    5| 1.6733870967741935|\n",
      "|    4|  3.128333333333333|\n",
      "|    2|  3.734513274336283|\n",
      "|   12|  5.021774193548389|\n",
      "|    9| 1.9624999999999997|\n",
      "|    8| 1.3201612903225806|\n",
      "|    7|0.38870967741935486|\n",
      "|   10|  4.059677419354839|\n",
      "|   11|  5.354166666666667|\n",
      "+-----+-------------------+\n",
      "\n"
     ]
    }
   ],
   "source": [
    "avg_rainfall_by_month.show()"
   ]
  },
  {
   "cell_type": "code",
   "execution_count": 37,
   "id": "f36b7d87",
   "metadata": {},
   "outputs": [
    {
     "data": {
      "text/plain": [
       "11"
      ]
     },
     "execution_count": 37,
     "metadata": {},
     "output_type": "execute_result"
    }
   ],
   "source": [
    "month_with_most_rain"
   ]
  },
  {
   "cell_type": "markdown",
   "id": "69872825",
   "metadata": {},
   "source": [
    "\n",
    "Which year was the windiest?\n"
   ]
  },
  {
   "cell_type": "code",
   "execution_count": 42,
   "id": "049ad61c",
   "metadata": {
    "scrolled": true
   },
   "outputs": [],
   "source": [
    "# Extract the year from the date column\n",
    "df = df.withColumn(\"year\", year(df[\"date\"]))\n",
    "\n",
    "# Calculate the average wind speed for each year\n",
    "avg_wind_speed_by_year = df.groupBy(\"year\").agg(avg(\"wind\").alias(\"avg_wind_speed\"))\n",
    "\n",
    "# Find the year with the highest average wind speed\n",
    "year_with_highest_wind = avg_wind_speed_by_year.orderBy(\"avg_wind_speed\", ascending=False).first()[\"year\"]\n",
    "\n",
    "\n"
   ]
  },
  {
   "cell_type": "code",
   "execution_count": 43,
   "id": "c19be963",
   "metadata": {},
   "outputs": [
    {
     "name": "stdout",
     "output_type": "stream",
     "text": [
      "+----+------------------+\n",
      "|year|    avg_wind_speed|\n",
      "+----+------------------+\n",
      "|2012| 3.400819672131148|\n",
      "|2013|3.0158904109589058|\n",
      "|2014| 3.387671232876714|\n",
      "|2015| 3.159726027397261|\n",
      "+----+------------------+\n",
      "\n"
     ]
    }
   ],
   "source": [
    "avg_wind_speed_by_year.show()"
   ]
  },
  {
   "cell_type": "code",
   "execution_count": 55,
   "id": "339831b5",
   "metadata": {},
   "outputs": [
    {
     "name": "stdout",
     "output_type": "stream",
     "text": [
      "The windiest year was 2012\n"
     ]
    }
   ],
   "source": [
    "print('The windiest year was',year_with_highest_wind )"
   ]
  },
  {
   "cell_type": "markdown",
   "id": "0be7bf8b",
   "metadata": {},
   "source": [
    "What is the most frequent type of weather in January?\n"
   ]
  },
  {
   "cell_type": "code",
   "execution_count": 56,
   "id": "c17980e7",
   "metadata": {},
   "outputs": [
    {
     "name": "stdout",
     "output_type": "stream",
     "text": [
      "+----------+-------------+--------+--------+----+-------+-------------------+-------------------+-----+----+\n",
      "|      date|precipitation|temp_max|temp_min|wind|weather|temp_max_fahrenheit|temp_min_fahrenheit|month|year|\n",
      "+----------+-------------+--------+--------+----+-------+-------------------+-------------------+-----+----+\n",
      "|2012-01-01|          0.0|    12.8|     5.0| 4.7|drizzle|              55.04|               41.0|    1|2012|\n",
      "|2012-01-02|         10.9|    10.6|     2.8| 4.5|   rain|              51.08|              37.04|    1|2012|\n",
      "|2012-01-03|          0.8|    11.7|     7.2| 2.3|   rain|              53.06|              44.96|    1|2012|\n",
      "|2012-01-04|         20.3|    12.2|     5.6| 4.7|   rain|              53.96|              42.08|    1|2012|\n",
      "|2012-01-05|          1.3|     8.9|     2.8| 6.1|   rain|              48.02|              37.04|    1|2012|\n",
      "|2012-01-06|          2.5|     4.4|     2.2| 2.2|   rain|              39.92|              35.96|    1|2012|\n",
      "|2012-01-07|          0.0|     7.2|     2.8| 2.3|   rain|              44.96|              37.04|    1|2012|\n",
      "|2012-01-08|          0.0|    10.0|     2.8| 2.0|    sun|               50.0|              37.04|    1|2012|\n",
      "|2012-01-09|          4.3|     9.4|     5.0| 3.4|   rain|              48.92|               41.0|    1|2012|\n",
      "|2012-01-10|          1.0|     6.1|     0.6| 3.4|   rain| 42.980000000000004|              33.08|    1|2012|\n",
      "|2012-01-11|          0.0|     6.1|    -1.1| 5.1|    sun| 42.980000000000004|              30.02|    1|2012|\n",
      "|2012-01-12|          0.0|     6.1|    -1.7| 1.9|    sun| 42.980000000000004|              28.94|    1|2012|\n",
      "|2012-01-13|          0.0|     5.0|    -2.8| 1.3|    sun|               41.0|              26.96|    1|2012|\n",
      "|2012-01-14|          4.1|     4.4|     0.6| 5.3|   snow|              39.92|              33.08|    1|2012|\n",
      "|2012-01-15|          5.3|     1.1|    -3.3| 3.2|   snow|              33.98| 26.060000000000002|    1|2012|\n",
      "|2012-01-16|          2.5|     1.7|    -2.8| 5.0|   snow|              35.06|              26.96|    1|2012|\n",
      "|2012-01-17|          8.1|     3.3|     0.0| 5.6|   snow|              37.94|               32.0|    1|2012|\n",
      "|2012-01-18|         19.8|     0.0|    -2.8| 5.0|   snow|               32.0|              26.96|    1|2012|\n",
      "|2012-01-19|         15.2|    -1.1|    -2.8| 1.6|   snow|              30.02|              26.96|    1|2012|\n",
      "|2012-01-20|         13.5|     7.2|    -1.1| 2.3|   snow|              44.96|              30.02|    1|2012|\n",
      "+----------+-------------+--------+--------+----+-------+-------------------+-------------------+-----+----+\n",
      "only showing top 20 rows\n",
      "\n"
     ]
    }
   ],
   "source": [
    "# Filter the data for the month of January\n",
    "january_data = df.filter(month(df[\"date\"]) == 1)\n",
    "january_data.show()"
   ]
  },
  {
   "cell_type": "code",
   "execution_count": 57,
   "id": "896936dd",
   "metadata": {},
   "outputs": [
    {
     "name": "stdout",
     "output_type": "stream",
     "text": [
      "January's most frequent weather type is fog\n"
     ]
    }
   ],
   "source": [
    "# Calculate the mode of the weather column in January\n",
    "most_frequent_weather_january = january_data.groupBy(\"weather\").count().orderBy(col(\"count\").desc()).first()[\"weather\"]\n",
    "print(\"January's most frequent weather type is\",most_frequent_weather_january)"
   ]
  },
  {
   "cell_type": "markdown",
   "id": "f185a55a",
   "metadata": {},
   "source": [
    "What is the average high and low temperature on sunny days in July in 2013 and 2014?\n"
   ]
  },
  {
   "cell_type": "code",
   "execution_count": 58,
   "id": "68657421",
   "metadata": {},
   "outputs": [],
   "source": [
    "# Filter the data for July in the years 2013 and 2014 and sunny weather\n",
    "filtered_data = df.filter((month(df[\"date\"]) == 7) & ((year(df[\"date\"]) == 2013) | (year(df[\"date\"]) == 2014)) & (df[\"weather\"] == \"sunny\"))"
   ]
  },
  {
   "cell_type": "code",
   "execution_count": 59,
   "id": "376f4c8a",
   "metadata": {},
   "outputs": [],
   "source": [
    "# Calculate the average high and low temperatures\n",
    "avg_temperatures = filtered_data.groupBy().agg(avg(\"temp_max\").alias(\"avg_high_temp\"), avg(\"temp_min\").alias(\"avg_low_temp\")).collect()[0]"
   ]
  },
  {
   "cell_type": "code",
   "execution_count": 60,
   "id": "22d07bc1",
   "metadata": {},
   "outputs": [
    {
     "name": "stdout",
     "output_type": "stream",
     "text": [
      "Average High Temperature on Sunny Days in July (2013-2014): None\n",
      "Average Low Temperature on Sunny Days in July (2013-2014): None\n"
     ]
    }
   ],
   "source": [
    "# Retrieve the average high and low temperatures\n",
    "avg_high_temp = avg_temperatures[\"avg_high_temp\"]\n",
    "avg_low_temp = avg_temperatures[\"avg_low_temp\"]\n",
    "print(\"Average High Temperature on Sunny Days in July (2013-2014): {}\".format(avg_high_temp))\n",
    "print(\"Average Low Temperature on Sunny Days in July (2013-2014): {}\".format(avg_low_temp))"
   ]
  },
  {
   "cell_type": "markdown",
   "id": "f9b6f39f",
   "metadata": {},
   "source": [
    "What percentage of days were rainy in q3 of 2015?\n"
   ]
  },
  {
   "cell_type": "code",
   "execution_count": 61,
   "id": "869af5da",
   "metadata": {},
   "outputs": [],
   "source": [
    "# Filter the data for Q3 of 2015 and rainy weather\n",
    "q3_2015_rainy_days = df.filter((quarter(df[\"date\"]) == 3) & (year(df[\"date\"]) == 2015) & (df[\"weather\"] == \"rain\"))"
   ]
  },
  {
   "cell_type": "code",
   "execution_count": 62,
   "id": "5fb9ca80",
   "metadata": {},
   "outputs": [],
   "source": [
    "# Calculate the total number of days in Q3 of 2015\n",
    "total_days_q3_2015 = q3_2015_rainy_days.count()"
   ]
  },
  {
   "cell_type": "code",
   "execution_count": 63,
   "id": "07f3bee8",
   "metadata": {},
   "outputs": [],
   "source": [
    "# Calculate the number of rainy days in Q3 of 2015\n",
    "rainy_days_q3_2015 = q3_2015_rainy_days.filter(df[\"weather\"] == \"rain\").count()"
   ]
  },
  {
   "cell_type": "code",
   "execution_count": 64,
   "id": "417f7f18",
   "metadata": {},
   "outputs": [],
   "source": [
    "\n",
    "# Calculate the percentage of rainy days in Q3 of 2015\n",
    "percentage_rainy_days_q3_2015 = (rainy_days_q3_2015 / total_days_q3_2015) * 100"
   ]
  },
  {
   "cell_type": "code",
   "execution_count": 65,
   "id": "bc91f4e4",
   "metadata": {},
   "outputs": [
    {
     "name": "stdout",
     "output_type": "stream",
     "text": [
      "Percentage of Rainy Days in Q3 of 2015: 100.00%\n"
     ]
    }
   ],
   "source": [
    "# Print the percentage of rainy days in Q3 of 2015\n",
    "print(\"Percentage of Rainy Days in Q3 of 2015: {:.2f}%\".format(percentage_rainy_days_q3_2015))"
   ]
  },
  {
   "cell_type": "markdown",
   "id": "3ea301d9",
   "metadata": {},
   "source": [
    "For each year, find what percentage of days it rained (had non-zero precipitation)."
   ]
  },
  {
   "cell_type": "code",
   "execution_count": 72,
   "id": "bf59334c",
   "metadata": {},
   "outputs": [],
   "source": [
    "# Calculate the total count of days and count of rainy days for each year\n",
    "yearly_counts = df.groupBy(year(df[\"date\"]).alias(\"year\")).agg(count(\"*\").alias(\"total_days\"),\n",
    "                                                                  sum(when(df[\"precipitation\"] > 0, 1).otherwise(0)).alias(\"rainy_days\"))"
   ]
  },
  {
   "cell_type": "code",
   "execution_count": 73,
   "id": "c67592b0",
   "metadata": {},
   "outputs": [],
   "source": [
    "# Calculate the percentage of rainy days for each year\n",
    "yearly_percentages = yearly_counts.withColumn(\"percentage_rainy_days\", (yearly_counts[\"rainy_days\"] / yearly_counts[\"total_days\"]) * 100)"
   ]
  },
  {
   "cell_type": "code",
   "execution_count": 74,
   "id": "5385773f",
   "metadata": {},
   "outputs": [
    {
     "name": "stdout",
     "output_type": "stream",
     "text": [
      "+----+----------+----------+---------------------+\n",
      "|year|total_days|rainy_days|percentage_rainy_days|\n",
      "+----+----------+----------+---------------------+\n",
      "|2012|       366|       177|    48.36065573770492|\n",
      "|2013|       365|       152|    41.64383561643836|\n",
      "|2014|       365|       150|     41.0958904109589|\n",
      "|2015|       365|       144|    39.45205479452055|\n",
      "+----+----------+----------+---------------------+\n",
      "\n"
     ]
    }
   ],
   "source": [
    "# Show the resulting DataFrame\n",
    "yearly_percentages.show()"
   ]
  }
 ],
 "metadata": {
  "kernelspec": {
   "display_name": "Python 3 (ipykernel)",
   "language": "python",
   "name": "python3"
  },
  "language_info": {
   "codemirror_mode": {
    "name": "ipython",
    "version": 3
   },
   "file_extension": ".py",
   "mimetype": "text/x-python",
   "name": "python",
   "nbconvert_exporter": "python",
   "pygments_lexer": "ipython3",
   "version": "3.9.13"
  }
 },
 "nbformat": 4,
 "nbformat_minor": 5
}
